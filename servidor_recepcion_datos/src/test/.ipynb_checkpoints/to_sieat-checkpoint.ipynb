{
 "cells": [
  {
   "cell_type": "code",
   "execution_count": 2,
   "id": "3a01e79d",
   "metadata": {},
   "outputs": [
    {
     "name": "stderr",
     "output_type": "stream",
     "text": [
      "INFO:kafka.conn:<BrokerConnection node_id=bootstrap-0 host=10.60.20.18:9095 <connecting> [IPv4 ('10.60.20.18', 9095)]>: connecting to 10.60.20.18:9095 [('10.60.20.18', 9095) IPv4]\n",
      "INFO:kafka.conn:Probing node bootstrap-0 broker version\n"
     ]
    },
    {
     "name": "stdout",
     "output_type": "stream",
     "text": [
      "1\n"
     ]
    },
    {
     "ename": "NoBrokersAvailable",
     "evalue": "NoBrokersAvailable",
     "output_type": "error",
     "traceback": [
      "\u001b[1;31m---------------------------------------------------------------------------\u001b[0m",
      "\u001b[1;31mNoBrokersAvailable\u001b[0m                        Traceback (most recent call last)",
      "\u001b[1;32mC:\\Users\\ALBERT~1\\AppData\\Local\\Temp/ipykernel_15124/2598599136.py\u001b[0m in \u001b[0;36m<module>\u001b[1;34m\u001b[0m\n\u001b[0;32m      3\u001b[0m \u001b[1;33m\u001b[0m\u001b[0m\n\u001b[0;32m      4\u001b[0m \u001b[0msys\u001b[0m\u001b[1;33m.\u001b[0m\u001b[0mpath\u001b[0m\u001b[1;33m.\u001b[0m\u001b[0minsert\u001b[0m\u001b[1;33m(\u001b[0m\u001b[1;36m0\u001b[0m\u001b[1;33m,\u001b[0m \u001b[1;34m\"../src\"\u001b[0m\u001b[1;33m)\u001b[0m\u001b[1;33m\u001b[0m\u001b[1;33m\u001b[0m\u001b[0m\n\u001b[1;32m----> 5\u001b[1;33m \u001b[1;32mfrom\u001b[0m \u001b[0malternal_processes\u001b[0m\u001b[1;33m.\u001b[0m\u001b[0mto_sieat\u001b[0m \u001b[1;32mimport\u001b[0m \u001b[1;33m*\u001b[0m\u001b[1;33m\u001b[0m\u001b[1;33m\u001b[0m\u001b[0m\n\u001b[0m",
      "\u001b[1;32m~\\ingest-server-dev\\ingest-server\\test\\../src\\alternal_processes\\to_sieat.py\u001b[0m in \u001b[0;36m<module>\u001b[1;34m\u001b[0m\n\u001b[0;32m     10\u001b[0m \u001b[0mlogging\u001b[0m\u001b[1;33m.\u001b[0m\u001b[0mbasicConfig\u001b[0m\u001b[1;33m(\u001b[0m\u001b[0mlevel\u001b[0m\u001b[1;33m=\u001b[0m\u001b[0mlogging\u001b[0m\u001b[1;33m.\u001b[0m\u001b[0mINFO\u001b[0m\u001b[1;33m)\u001b[0m\u001b[1;33m\u001b[0m\u001b[1;33m\u001b[0m\u001b[0m\n\u001b[0;32m     11\u001b[0m \u001b[0mprint\u001b[0m\u001b[1;33m(\u001b[0m\u001b[1;34m\"1\"\u001b[0m\u001b[1;33m)\u001b[0m\u001b[1;33m\u001b[0m\u001b[1;33m\u001b[0m\u001b[0m\n\u001b[1;32m---> 12\u001b[1;33m consumer = KafkaConsumer(\n\u001b[0m\u001b[0;32m     13\u001b[0m     \u001b[1;34m\"ingress\"\u001b[0m\u001b[1;33m,\u001b[0m\u001b[1;33m\u001b[0m\u001b[1;33m\u001b[0m\u001b[0m\n\u001b[0;32m     14\u001b[0m     \u001b[0mbootstrap_servers\u001b[0m\u001b[1;33m=\u001b[0m\u001b[1;33m[\u001b[0m\u001b[1;34m\"10.60.20.18:9095\"\u001b[0m\u001b[1;33m]\u001b[0m\u001b[1;33m,\u001b[0m\u001b[1;33m\u001b[0m\u001b[1;33m\u001b[0m\u001b[0m\n",
      "\u001b[1;32m~\\anaconda3\\lib\\site-packages\\kafka\\consumer\\group.py\u001b[0m in \u001b[0;36m__init__\u001b[1;34m(self, *topics, **configs)\u001b[0m\n\u001b[0;32m    354\u001b[0m                         str(self.config['api_version']), str_version)\n\u001b[0;32m    355\u001b[0m \u001b[1;33m\u001b[0m\u001b[0m\n\u001b[1;32m--> 356\u001b[1;33m         \u001b[0mself\u001b[0m\u001b[1;33m.\u001b[0m\u001b[0m_client\u001b[0m \u001b[1;33m=\u001b[0m \u001b[0mKafkaClient\u001b[0m\u001b[1;33m(\u001b[0m\u001b[0mmetrics\u001b[0m\u001b[1;33m=\u001b[0m\u001b[0mself\u001b[0m\u001b[1;33m.\u001b[0m\u001b[0m_metrics\u001b[0m\u001b[1;33m,\u001b[0m \u001b[1;33m**\u001b[0m\u001b[0mself\u001b[0m\u001b[1;33m.\u001b[0m\u001b[0mconfig\u001b[0m\u001b[1;33m)\u001b[0m\u001b[1;33m\u001b[0m\u001b[1;33m\u001b[0m\u001b[0m\n\u001b[0m\u001b[0;32m    357\u001b[0m \u001b[1;33m\u001b[0m\u001b[0m\n\u001b[0;32m    358\u001b[0m         \u001b[1;31m# Get auto-discovered version from client if necessary\u001b[0m\u001b[1;33m\u001b[0m\u001b[1;33m\u001b[0m\u001b[0m\n",
      "\u001b[1;32m~\\anaconda3\\lib\\site-packages\\kafka\\client_async.py\u001b[0m in \u001b[0;36m__init__\u001b[1;34m(self, **configs)\u001b[0m\n\u001b[0;32m    242\u001b[0m         \u001b[1;32mif\u001b[0m \u001b[0mself\u001b[0m\u001b[1;33m.\u001b[0m\u001b[0mconfig\u001b[0m\u001b[1;33m[\u001b[0m\u001b[1;34m'api_version'\u001b[0m\u001b[1;33m]\u001b[0m \u001b[1;32mis\u001b[0m \u001b[1;32mNone\u001b[0m\u001b[1;33m:\u001b[0m\u001b[1;33m\u001b[0m\u001b[1;33m\u001b[0m\u001b[0m\n\u001b[0;32m    243\u001b[0m             \u001b[0mcheck_timeout\u001b[0m \u001b[1;33m=\u001b[0m \u001b[0mself\u001b[0m\u001b[1;33m.\u001b[0m\u001b[0mconfig\u001b[0m\u001b[1;33m[\u001b[0m\u001b[1;34m'api_version_auto_timeout_ms'\u001b[0m\u001b[1;33m]\u001b[0m \u001b[1;33m/\u001b[0m \u001b[1;36m1000\u001b[0m\u001b[1;33m\u001b[0m\u001b[1;33m\u001b[0m\u001b[0m\n\u001b[1;32m--> 244\u001b[1;33m             \u001b[0mself\u001b[0m\u001b[1;33m.\u001b[0m\u001b[0mconfig\u001b[0m\u001b[1;33m[\u001b[0m\u001b[1;34m'api_version'\u001b[0m\u001b[1;33m]\u001b[0m \u001b[1;33m=\u001b[0m \u001b[0mself\u001b[0m\u001b[1;33m.\u001b[0m\u001b[0mcheck_version\u001b[0m\u001b[1;33m(\u001b[0m\u001b[0mtimeout\u001b[0m\u001b[1;33m=\u001b[0m\u001b[0mcheck_timeout\u001b[0m\u001b[1;33m)\u001b[0m\u001b[1;33m\u001b[0m\u001b[1;33m\u001b[0m\u001b[0m\n\u001b[0m\u001b[0;32m    245\u001b[0m \u001b[1;33m\u001b[0m\u001b[0m\n\u001b[0;32m    246\u001b[0m     \u001b[1;32mdef\u001b[0m \u001b[0m_can_bootstrap\u001b[0m\u001b[1;33m(\u001b[0m\u001b[0mself\u001b[0m\u001b[1;33m)\u001b[0m\u001b[1;33m:\u001b[0m\u001b[1;33m\u001b[0m\u001b[1;33m\u001b[0m\u001b[0m\n",
      "\u001b[1;32m~\\anaconda3\\lib\\site-packages\\kafka\\client_async.py\u001b[0m in \u001b[0;36mcheck_version\u001b[1;34m(self, node_id, timeout, strict)\u001b[0m\n\u001b[0;32m    925\u001b[0m         \u001b[1;32melse\u001b[0m\u001b[1;33m:\u001b[0m\u001b[1;33m\u001b[0m\u001b[1;33m\u001b[0m\u001b[0m\n\u001b[0;32m    926\u001b[0m             \u001b[0mself\u001b[0m\u001b[1;33m.\u001b[0m\u001b[0m_lock\u001b[0m\u001b[1;33m.\u001b[0m\u001b[0mrelease\u001b[0m\u001b[1;33m(\u001b[0m\u001b[1;33m)\u001b[0m\u001b[1;33m\u001b[0m\u001b[1;33m\u001b[0m\u001b[0m\n\u001b[1;32m--> 927\u001b[1;33m             \u001b[1;32mraise\u001b[0m \u001b[0mErrors\u001b[0m\u001b[1;33m.\u001b[0m\u001b[0mNoBrokersAvailable\u001b[0m\u001b[1;33m(\u001b[0m\u001b[1;33m)\u001b[0m\u001b[1;33m\u001b[0m\u001b[1;33m\u001b[0m\u001b[0m\n\u001b[0m\u001b[0;32m    928\u001b[0m \u001b[1;33m\u001b[0m\u001b[0m\n\u001b[0;32m    929\u001b[0m     \u001b[1;32mdef\u001b[0m \u001b[0mwakeup\u001b[0m\u001b[1;33m(\u001b[0m\u001b[0mself\u001b[0m\u001b[1;33m)\u001b[0m\u001b[1;33m:\u001b[0m\u001b[1;33m\u001b[0m\u001b[1;33m\u001b[0m\u001b[0m\n",
      "\u001b[1;31mNoBrokersAvailable\u001b[0m: NoBrokersAvailable"
     ]
    }
   ],
   "source": [
    "import sys\n",
    "import unittest\n",
    "\n",
    "sys.path.insert(0, \"../src\")\n",
    "from alternal_processes.to_sieat import *"
   ]
  },
  {
   "cell_type": "code",
   "execution_count": 3,
   "id": "19fda111",
   "metadata": {},
   "outputs": [],
   "source": [
    "l={\"1\":[]}"
   ]
  },
  {
   "cell_type": "code",
   "execution_count": 8,
   "id": "38edd2bb",
   "metadata": {},
   "outputs": [
    {
     "data": {
      "text/plain": [
       "False"
      ]
     },
     "execution_count": 8,
     "metadata": {},
     "output_type": "execute_result"
    }
   ],
   "source": [
    "l[\"1\"] is None "
   ]
  },
  {
   "cell_type": "code",
   "execution_count": 9,
   "id": "bacda156",
   "metadata": {},
   "outputs": [
    {
     "ename": "ModuleNotFoundError",
     "evalue": "No module named 'kafka_producer'",
     "output_type": "error",
     "traceback": [
      "\u001b[1;31m---------------------------------------------------------------------------\u001b[0m",
      "\u001b[1;31mModuleNotFoundError\u001b[0m                       Traceback (most recent call last)",
      "\u001b[1;32mC:\\Users\\ALBERT~1\\AppData\\Local\\Temp/ipykernel_15124/3992914500.py\u001b[0m in \u001b[0;36m<module>\u001b[1;34m\u001b[0m\n\u001b[0;32m      9\u001b[0m \u001b[1;32mimport\u001b[0m \u001b[0mrequests\u001b[0m\u001b[1;33m\u001b[0m\u001b[1;33m\u001b[0m\u001b[0m\n\u001b[0;32m     10\u001b[0m \u001b[1;32mfrom\u001b[0m \u001b[0mkafka\u001b[0m \u001b[1;32mimport\u001b[0m \u001b[0mKafkaConsumer\u001b[0m\u001b[1;33m\u001b[0m\u001b[1;33m\u001b[0m\u001b[0m\n\u001b[1;32m---> 11\u001b[1;33m \u001b[1;32mfrom\u001b[0m \u001b[0mkafka_producer\u001b[0m \u001b[1;32mimport\u001b[0m \u001b[0msend_message\u001b[0m\u001b[1;33m\u001b[0m\u001b[1;33m\u001b[0m\u001b[0m\n\u001b[0m\u001b[0;32m     12\u001b[0m \u001b[1;33m\u001b[0m\u001b[0m\n\u001b[0;32m     13\u001b[0m \u001b[1;31m# from kafka.errors import KafkaError #Unused\u001b[0m\u001b[1;33m\u001b[0m\u001b[1;33m\u001b[0m\u001b[0m\n",
      "\u001b[1;31mModuleNotFoundError\u001b[0m: No module named 'kafka_producer'"
     ]
    }
   ],
   "source": [
    "sys.path.insert(0, \"../src\")\n",
    "\n",
    "\"\"\"Used Modules.\"\"\"\n",
    "# from kafka import KafkaProducer #Unused\n",
    "# import os #Unused\n",
    "# import sys #Unused\n",
    "import logging\n",
    "import ssl\n",
    "import json\n",
    "import configparser\n",
    "import requests\n",
    "from kafka import KafkaConsumer\n",
    "from kafka_producer import send_message\n",
    "\n",
    "# from kafka.errors import KafkaError #Unused\n",
    "# from datetime import datetime,timedelta #Unused\n",
    "# from json import loads, dumps #Unused\n",
    "# import pandas as pd #Unused\n",
    "# import time #Unused\n",
    "\n",
    "GEOSERVER_IP = \"34.74.30.25\"\n",
    "URL_QUERY = \"http://34.74.30.25/geoserver/Oficial/ows?SERVICE=WFS&VERSION=1.0.0&REQUEST=GetFeature&typeName=Oficial:get_alertc_latlon&outputFormat=application/json&viewparams=array%3A%5C%5B%5C%5B1%5C%2C{country_code}%5C%2C{layer}%5C%2C{pos}%5C%2C{direction}%5C%2C{alertCPoint}%5C%2C500%5C%5D%5C%5D\"\n",
    "logging.basicConfig(level=logging.INFO)\n",
    "\n",
    "SASL_MECHANISM = \"PLAIN\"\n",
    "SECURITY_PROTOCOL = \"PLAINTEXT\"\n",
    "\n",
    "context = ssl.create_default_context()\n",
    "context.options &= ssl.OP_NO_TLSv1\n",
    "context.options &= ssl.OP_NO_TLSv1_1\n",
    "\n",
    "\n",
    "config = configparser.ConfigParser()\n",
    "config.read(\"config/config.ini\")\n",
    "\"\"\"\n",
    "FILE_NAME=os.path.join(PROJECT_PATH,\n",
    "                       'logs',\n",
    "                       'consumer_%s.log' % config['Kafka']['ingress_consumer_id'])\n",
    "logging.basicConfig(\n",
    "        filename= FILE_NAME,\n",
    "        level=logging.INFO,\n",
    "        format='%(asctime)s:%(levelname)s:%(message)s',\n",
    "        datefmt='%Y-%m-%d %H:%M:%S'\n",
    ")\n",
    "consumer = KafkaConsumer(\n",
    "     config['Kafka']['ingress_topic'],\n",
    "     bootstrap_servers=['%s:%s' % (config['Kafka']['kafka_host'], config['Kafka']['kafka_port'])],\n",
    "     auto_offset_reset='earliest',\n",
    "     enable_auto_commit=True,\n",
    "     group_id=config['Kafka']['ingress_consumer_id'],\n",
    "     value_deserializer=lambda x: loads(x.decode('utf-8')),\n",
    "     api_version = (0,10,2),\n",
    "     sasl_plain_username = \"skg\",\n",
    "     sasl_plain_password = \"Skg.51nit1-infr@*\",\n",
    "     security_protocol = 'SASL_SSL',\n",
    "     ssl_context = context,\n",
    "     sasl_mechanism = SASL_MECHANISM\n",
    ")\n",
    "\"\"\"\n",
    "consumer = KafkaConsumer(\n",
    "    \"ingress\",\n",
    "    group_id=\"my-group2\",\n",
    "    bootstrap_servers=[\"35.231.245.139:9092\"],\n",
    "    # sasl_plain_username = \"skg\",\n",
    "    # sasl_plain_password = \"Skg.51nit1-infr@*\",\n",
    "    # security_protocol = SECURITY_PROTOCOL,\n",
    "    # ssl_context = context,\n",
    "    # sasl_mechanism = SASL_MECHANISM,\n",
    "    # api_version = (0,10,2),\n",
    "    value_deserializer=lambda m: json.loads(m.decode(\"utf-8\")),\n",
    ")\n",
    "logging.info(consumer.bootstrap_connected())"
   ]
  },
  {
   "cell_type": "code",
   "execution_count": null,
   "id": "4aa1eeb3",
   "metadata": {},
   "outputs": [],
   "source": []
  }
 ],
 "metadata": {
  "kernelspec": {
   "display_name": "Python 3 (ipykernel)",
   "language": "python",
   "name": "python3"
  },
  "language_info": {
   "codemirror_mode": {
    "name": "ipython",
    "version": 3
   },
   "file_extension": ".py",
   "mimetype": "text/x-python",
   "name": "python",
   "nbconvert_exporter": "python",
   "pygments_lexer": "ipython3",
   "version": "3.9.7"
  }
 },
 "nbformat": 4,
 "nbformat_minor": 5
}
