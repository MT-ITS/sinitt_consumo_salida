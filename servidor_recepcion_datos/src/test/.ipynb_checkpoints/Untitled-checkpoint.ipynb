{
 "cells": [
  {
   "cell_type": "code",
   "execution_count": 1,
   "id": "a8bd2957",
   "metadata": {},
   "outputs": [],
   "source": [
    "import sys\n",
    "import json\n",
    "import unittest\n",
    "\n",
    "sys.path.insert(0, \"../src\")\n",
    "\n",
    "from session_manager.session_manager import *\n",
    "from datetime import datetime"
   ]
  },
  {
   "cell_type": "code",
   "execution_count": 2,
   "id": "894d0682",
   "metadata": {},
   "outputs": [],
   "source": [
    "def test_failed_process_status_if():\n",
    "        exchange_info = json.load(\n",
    "            open(\n",
    "                \"SampleMessageExchange/Sample_Client_responses/openSession_OKresponse.json\"\n",
    "            )\n",
    "        )[\"exchangeInformation\"]\n",
    "        exchange_info_dynamic_inf = json.load(\n",
    "            open(\n",
    "                \"SampleMessageExchange/Sample_Client_responses/openSession_OKresponse.json\"\n",
    "            )\n",
    "        )[\"exchangeInformation\"]\n",
    "        del exchange_info_dynamic_inf[\"DynamicInformation\"][\"sessionInformation\"]\n",
    "        status = \"online\"\n",
    "        failed_process_reason = \"test\"\n",
    "        session_id = exchange_info[\"DynamicInformation\"][\"sessionInformation\"][\n",
    "            \"sessionID\"\n",
    "        ]\n",
    "\n",
    "        dyn_object_1 = DynamicInformation(\"online\", session_id, \"fail\")\n",
    "        dynamic_information_1 = json.loads(dyn_object_1.toJson())\n",
    "        dynamic_information_1[\"returnInformation\"][\n",
    "            \"returnStatusReason\"\n",
    "        ] = status_reason(failed_process_reason, \"es\")\n",
    "\n",
    "        dyn_object_2 = DynamicInformation(\"online\", \"fail\")\n",
    "        dynamic_information_2 = json.loads(dyn_object_2.toJson())\n",
    "        dynamic_information_2[\"returnInformation\"][\n",
    "            \"returnStatusReason\"\n",
    "        ] = status_reason(failed_process_reason, \"es\")\n",
    "\n",
    "        # Test if\n",
    "        result_1 = json.loads(\n",
    "            failed_process_status(exchange_info, failed_process_reason, status)\n",
    "        )\n",
    "        result_2 = json.loads(\n",
    "            failed_process_status(\n",
    "                exchange_info_dynamic_inf, failed_process_reason, status\n",
    "            )\n",
    "        )\n",
    "\n",
    "        print(\"exchangeInformation\" in result_1)\n",
    "\n",
    "        test_2 = (\n",
    "            result_1[\"exchangeInformation\"][\"ExchangeContext\"][\"codedExchangeProtocol\"]\n",
    "            == exchange_info[\"ExchangeContext\"][\"codedExchangeProtocol\"]\n",
    "        )\n",
    "\n",
    "        test_3 = (\n",
    "            result_1[\"exchangeInformation\"][\"DynamicInformation\"][\n",
    "                \"messageGenerationTimestamp\"\n",
    "            ]\n",
    "            == dynamic_information_1[\"messageGenerationTimestamp\"],\n",
    "        )\n",
    "\n",
    "        print(test_2==True)\n",
    "        print(test_3==True)\n",
    "\n",
    "        print(\"exchangeInformation\" in result_2)\n",
    "\n",
    "        test_4 = (\n",
    "            result_2[\"exchangeInformation\"][\"ExchangeContext\"][\"codedExchangeProtocol\"]\n",
    "            == exchange_info_dynamic_inf[\"ExchangeContext\"][\"codedExchangeProtocol\"]\n",
    "        )\n",
    "\n",
    "        test_5 = (\n",
    "            result_2[\"exchangeInformation\"][\"DynamicInformation\"][\n",
    "                \"messageGenerationTimestamp\"\n",
    "            ]\n",
    "            == dynamic_information_2[\"messageGenerationTimestamp\"],\n",
    "        )\n",
    "        print(test_4==True)\n",
    "        print(test_5==True)"
   ]
  },
  {
   "cell_type": "code",
   "execution_count": 3,
   "id": "362965d4",
   "metadata": {},
   "outputs": [
    {
     "ename": "NameError",
     "evalue": "name 'test_failed_process_status' is not defined",
     "output_type": "error",
     "traceback": [
      "\u001b[1;31m---------------------------------------------------------------------------\u001b[0m",
      "\u001b[1;31mNameError\u001b[0m                                 Traceback (most recent call last)",
      "\u001b[1;32mC:\\Users\\ALBERT~1\\AppData\\Local\\Temp/ipykernel_1340/1850175602.py\u001b[0m in \u001b[0;36m<module>\u001b[1;34m\u001b[0m\n\u001b[1;32m----> 1\u001b[1;33m \u001b[0mtest_failed_process_status\u001b[0m\u001b[1;33m(\u001b[0m\u001b[1;33m)\u001b[0m\u001b[1;33m\u001b[0m\u001b[1;33m\u001b[0m\u001b[0m\n\u001b[0m",
      "\u001b[1;31mNameError\u001b[0m: name 'test_failed_process_status' is not defined"
     ]
    }
   ],
   "source": [
    "test_failed_process_status()"
   ]
  },
  {
   "cell_type": "code",
   "execution_count": 4,
   "id": "9630d1d3",
   "metadata": {},
   "outputs": [],
   "source": [
    "def test_check_active():\n",
    "    exchange_info = json.load(\n",
    "            open(\n",
    "                \"SampleMessageExchange/Sample_Client_responses/openSession_OKresponse.json\"\n",
    "            )\n",
    "        )[\"exchangeInformation\"]\n",
    "    active = check_active(exchange_info)\n",
    "    print(active == False)"
   ]
  },
  {
   "cell_type": "code",
   "execution_count": 5,
   "id": "c839114c",
   "metadata": {},
   "outputs": [
    {
     "name": "stdout",
     "output_type": "stream",
     "text": [
      "True\n"
     ]
    }
   ],
   "source": [
    "test_check_active()"
   ]
  },
  {
   "cell_type": "code",
   "execution_count": 6,
   "id": "0e404931",
   "metadata": {},
   "outputs": [
    {
     "name": "stdout",
     "output_type": "stream",
     "text": [
      "Working outside of request context.\n",
      "\n",
      "This typically means that you attempted to use functionality that needed\n",
      "an active HTTP request.  Consult the documentation on testing for\n",
      "information about how to avoid this problem.\n",
      "4\n"
     ]
    },
    {
     "ename": "NameError",
     "evalue": "name 'exInfo' is not defined",
     "output_type": "error",
     "traceback": [
      "\u001b[1;31m---------------------------------------------------------------------------\u001b[0m",
      "\u001b[1;31mAttributeError\u001b[0m                            Traceback (most recent call last)",
      "\u001b[1;32m~\\ingest-server-dev\\ingest-server\\test\\../src\\session_manager\\session_manager.py\u001b[0m in \u001b[0;36mopen_session\u001b[1;34m(json_payload)\u001b[0m\n\u001b[0;32m     50\u001b[0m         \u001b[1;31m# Join to create exchange Information object\u001b[0m\u001b[1;33m\u001b[0m\u001b[1;33m\u001b[0m\u001b[0m\n\u001b[1;32m---> 51\u001b[1;33m         \u001b[0mexchange_info\u001b[0m \u001b[1;33m=\u001b[0m \u001b[0mexchangeInformation\u001b[0m\u001b[1;33m(\u001b[0m\u001b[0mex_info\u001b[0m\u001b[1;33m,\u001b[0m \u001b[0mdyn_object\u001b[0m\u001b[1;33m)\u001b[0m\u001b[1;33m\u001b[0m\u001b[1;33m\u001b[0m\u001b[0m\n\u001b[0m\u001b[0;32m     52\u001b[0m         \u001b[0msession\u001b[0m\u001b[1;33m[\u001b[0m\u001b[1;34m'session_info'\u001b[0m\u001b[1;33m]\u001b[0m \u001b[1;33m=\u001b[0m \u001b[0mdyn_object\u001b[0m\u001b[1;33m.\u001b[0m\u001b[0msessionInformation\u001b[0m\u001b[1;33m\u001b[0m\u001b[1;33m\u001b[0m\u001b[0m\n",
      "\u001b[1;32m~\\ingest-server-dev\\ingest-server\\test\\../src\\session_manager\\session_manager.py\u001b[0m in \u001b[0;36m__init__\u001b[1;34m(self, ex_context, dynamic_inf)\u001b[0m\n\u001b[0;32m    333\u001b[0m         \u001b[0mself\u001b[0m\u001b[1;33m.\u001b[0m\u001b[0m_modelVersion\u001b[0m \u001b[1;33m=\u001b[0m \u001b[1;34m'3'\u001b[0m\u001b[1;33m\u001b[0m\u001b[1;33m\u001b[0m\u001b[0m\n\u001b[1;32m--> 334\u001b[1;33m         \u001b[0mself\u001b[0m\u001b[1;33m.\u001b[0m\u001b[0mExchangeContext\u001b[0m \u001b[1;33m=\u001b[0m \u001b[0mex_context\u001b[0m\u001b[1;33m.\u001b[0m\u001b[0m__dict__\u001b[0m\u001b[1;33m\u001b[0m\u001b[1;33m\u001b[0m\u001b[0m\n\u001b[0m\u001b[0;32m    335\u001b[0m         \u001b[0mself\u001b[0m\u001b[1;33m.\u001b[0m\u001b[0mDynamicInformation\u001b[0m \u001b[1;33m=\u001b[0m \u001b[0mdynamic_inf\u001b[0m\u001b[1;33m.\u001b[0m\u001b[0m__dict__\u001b[0m\u001b[1;33m\u001b[0m\u001b[1;33m\u001b[0m\u001b[0m\n",
      "\u001b[1;31mAttributeError\u001b[0m: 'dict' object has no attribute '__dict__'",
      "\nDuring handling of the above exception, another exception occurred:\n",
      "\u001b[1;31mNameError\u001b[0m                                 Traceback (most recent call last)",
      "\u001b[1;32mC:\\Users\\ALBERT~1\\AppData\\Local\\Temp/ipykernel_1340/121316033.py\u001b[0m in \u001b[0;36m<module>\u001b[1;34m\u001b[0m\n\u001b[0;32m      1\u001b[0m exchange_info = json.load(\n\u001b[0;32m      2\u001b[0m open(\"SampleMessageExchange/Sample_Requests_Body/openSession_ex.json\"))\n\u001b[1;32m----> 3\u001b[1;33m \u001b[0mresult\u001b[0m \u001b[1;33m=\u001b[0m \u001b[0mopen_session\u001b[0m\u001b[1;33m(\u001b[0m\u001b[0mexchange_info\u001b[0m\u001b[1;33m)\u001b[0m\u001b[1;33m\u001b[0m\u001b[1;33m\u001b[0m\u001b[0m\n\u001b[0m\u001b[0;32m      4\u001b[0m \u001b[0mprint\u001b[0m\u001b[1;33m(\u001b[0m\u001b[0mresult\u001b[0m\u001b[1;33m)\u001b[0m\u001b[1;33m\u001b[0m\u001b[1;33m\u001b[0m\u001b[0m\n",
      "\u001b[1;32m~\\ingest-server-dev\\ingest-server\\test\\../src\\session_manager\\session_manager.py\u001b[0m in \u001b[0;36mopen_session\u001b[1;34m(json_payload)\u001b[0m\n\u001b[0;32m     61\u001b[0m         \u001b[0mlogging\u001b[0m\u001b[1;33m.\u001b[0m\u001b[0minfo\u001b[0m\u001b[1;33m(\u001b[0m\u001b[0me\u001b[0m\u001b[1;33m)\u001b[0m\u001b[1;33m\u001b[0m\u001b[1;33m\u001b[0m\u001b[0m\n\u001b[0;32m     62\u001b[0m         \u001b[0mlogging\u001b[0m\u001b[1;33m.\u001b[0m\u001b[0minfo\u001b[0m\u001b[1;33m(\u001b[0m\u001b[1;34m'Error de apertura de sesión: la estructura del mensaje Datex no es correcto'\u001b[0m\u001b[1;33m)\u001b[0m\u001b[1;33m\u001b[0m\u001b[1;33m\u001b[0m\u001b[0m\n\u001b[1;32m---> 63\u001b[1;33m         return False, failed_process_status(exInfo, 'La estructura del mensaje Datex no es correcta ',\n\u001b[0m\u001b[0;32m     64\u001b[0m                                             DynamicInformation.ES_OFFLINE)\n\u001b[0;32m     65\u001b[0m \u001b[1;33m\u001b[0m\u001b[0m\n",
      "\u001b[1;31mNameError\u001b[0m: name 'exInfo' is not defined"
     ]
    }
   ],
   "source": [
    "exchange_info = json.load(\n",
    "open(\"SampleMessageExchange/Sample_Requests_Body/openSession_ex.json\"))\n",
    "result = open_session(exchange_info)\n",
    "print(result)"
   ]
  },
  {
   "cell_type": "code",
   "execution_count": 19,
   "id": "5cce85cd",
   "metadata": {},
   "outputs": [
    {
     "name": "stdout",
     "output_type": "stream",
     "text": [
      "2\n"
     ]
    },
    {
     "data": {
      "text/plain": [
       "False"
      ]
     },
     "execution_count": 19,
     "metadata": {},
     "output_type": "execute_result"
    }
   ],
   "source": [
    "exchange_info = json.load(\n",
    "    open(\n",
    "                \"test_files/empty_file.json\"\n",
    "        )\n",
    ")\n",
    "works, result = keep_alive(exchange_info)\n",
    "\n",
    "result = json.loads(result)\n",
    "test1 = False\n",
    "test2 = {'exchangeInformation': {'ExchangeContext': {}, 'DynamicInformation': {'exchangeStatus': 'offline', 'messageGenerationTimestamp': '2022-06-06T12:36:45.725710', 'returnInformation': {'returnStatus': 'fail', 'returnStatusReason': [{'lang': 'es', 'value': 'No existe una sesión activa'}]}}}}\n",
    "\n",
    "works == test1\n",
    "result == test2\n"
   ]
  },
  {
   "cell_type": "code",
   "execution_count": 21,
   "id": "0bcf7bf7",
   "metadata": {},
   "outputs": [
    {
     "data": {
      "text/plain": [
       "{'exchangeInformation': {'ExchangeContext': {},\n",
       "  'DynamicInformation': {'exchangeStatus': 'offline',\n",
       "   'returnInformation': {'returnStatus': 'fail',\n",
       "    'returnStatusReason': [{'lang': 'es',\n",
       "      'value': 'No existe una sesión activa'}]}}}}"
      ]
     },
     "execution_count": 21,
     "metadata": {},
     "output_type": "execute_result"
    }
   ],
   "source": [
    "del result[\"exchangeInformation\"][\"DynamicInformation\"][\"messageGenerationTimestamp\"]\n",
    "result"
   ]
  },
  {
   "cell_type": "code",
   "execution_count": 22,
   "id": "fd5d8f98",
   "metadata": {},
   "outputs": [
    {
     "data": {
      "text/plain": [
       "{'exchangeInformation': {'ExchangeContext': {},\n",
       "  'DynamicInformation': {'exchangeStatus': 'offline',\n",
       "   'returnInformation': {'returnStatus': 'fail',\n",
       "    'returnStatusReason': [{'lang': 'es',\n",
       "      'value': 'No existe una sesión activa'}]}}}}"
      ]
     },
     "execution_count": 22,
     "metadata": {},
     "output_type": "execute_result"
    }
   ],
   "source": [
    "del test2[\"exchangeInformation\"][\"DynamicInformation\"][\"messageGenerationTimestamp\"]\n",
    "test2"
   ]
  },
  {
   "cell_type": "code",
   "execution_count": 23,
   "id": "2bab929a",
   "metadata": {},
   "outputs": [
    {
     "data": {
      "text/plain": [
       "True"
      ]
     },
     "execution_count": 23,
     "metadata": {},
     "output_type": "execute_result"
    }
   ],
   "source": [
    "result == test2"
   ]
  },
  {
   "cell_type": "code",
   "execution_count": 10,
   "id": "cfb2c649",
   "metadata": {},
   "outputs": [
    {
     "name": "stdout",
     "output_type": "stream",
     "text": [
      "3\n",
      "No Agency\n"
     ]
    }
   ],
   "source": [
    "exchange_info = json.load(open(\"test_files/opensession_ok_response_custom2.json\"))\n",
    "result = return_agency(exchange_info)\n",
    "name =  \"No Agency\"\n",
    "print(result)\n",
    "#test = \"SINNIT\"\n",
    "#result == test\n"
   ]
  },
  {
   "cell_type": "code",
   "execution_count": null,
   "id": "0da5ea56",
   "metadata": {},
   "outputs": [],
   "source": [
    "exchange_info = json.load(open(\"test_files/empty_file2.json\"))\n",
    "result = return_agency(exchange_info)\n",
    "name =  \"No Agency\""
   ]
  }
 ],
 "metadata": {
  "kernelspec": {
   "display_name": "Python 3 (ipykernel)",
   "language": "python",
   "name": "python3"
  },
  "language_info": {
   "codemirror_mode": {
    "name": "ipython",
    "version": 3
   },
   "file_extension": ".py",
   "mimetype": "text/x-python",
   "name": "python",
   "nbconvert_exporter": "python",
   "pygments_lexer": "ipython3",
   "version": "3.9.7"
  }
 },
 "nbformat": 4,
 "nbformat_minor": 5
}
