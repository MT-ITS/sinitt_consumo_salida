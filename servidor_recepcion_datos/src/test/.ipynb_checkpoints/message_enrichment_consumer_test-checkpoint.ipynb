{
 "cells": [
  {
   "cell_type": "code",
   "execution_count": null,
   "id": "78390feb",
   "metadata": {},
   "outputs": [
    {
     "name": "stderr",
     "output_type": "stream",
     "text": [
      "INFO:kafka.conn:<BrokerConnection node_id=bootstrap-0 host=35.231.245.139:9092 <connecting> [IPv4 ('35.231.245.139', 9092)]>: connecting to 35.231.245.139:9092 [('35.231.245.139', 9092) IPv4]\n",
      "INFO:kafka.conn:Probing node bootstrap-0 broker version\n",
      "INFO:kafka.conn:<BrokerConnection node_id=bootstrap-0 host=35.231.245.139:9092 <connecting> [IPv4 ('35.231.245.139', 9092)]>: Connection complete.\n",
      "INFO:kafka.conn:Broker version identified as 2.5.0\n",
      "INFO:kafka.conn:Set configuration api_version=(2, 5, 0) to skip auto check_version requests on startup\n",
      "INFO:kafka.consumer.subscription_state:Updating subscribed topics to: ('ingress',)\n",
      "INFO:root:True\n",
      "INFO:kafka.cluster:Group coordinator for my-group2 is BrokerMetadata(nodeId='coordinator-1001', host='35.231.245.139', port=9092, rack=None)\n",
      "INFO:kafka.coordinator:Discovered coordinator coordinator-1001 for group my-group2\n",
      "INFO:kafka.coordinator:Starting new heartbeat thread\n",
      "INFO:kafka.coordinator.consumer:Revoking previously assigned partitions set() for group my-group2\n",
      "INFO:kafka.conn:<BrokerConnection node_id=coordinator-1001 host=35.231.245.139:9092 <connecting> [IPv4 ('35.231.245.139', 9092)]>: connecting to 35.231.245.139:9092 [('35.231.245.139', 9092) IPv4]\n",
      "INFO:kafka.conn:<BrokerConnection node_id=coordinator-1001 host=35.231.245.139:9092 <connecting> [IPv4 ('35.231.245.139', 9092)]>: Connection complete.\n",
      "INFO:kafka.conn:<BrokerConnection node_id=bootstrap-0 host=35.231.245.139:9092 <connected> [IPv4 ('35.231.245.139', 9092)]>: Closing connection. \n",
      "INFO:kafka.coordinator:(Re-)joining group my-group2\n",
      "INFO:kafka.coordinator:Elected group leader -- performing partition assignments using range\n",
      "INFO:kafka.conn:<BrokerConnection node_id=1001 host=35.231.245.139:9092 <connecting> [IPv4 ('35.231.245.139', 9092)]>: connecting to 35.231.245.139:9092 [('35.231.245.139', 9092) IPv4]\n",
      "INFO:kafka.coordinator:Successfully joined group my-group2 with generation 23\n",
      "INFO:kafka.consumer.subscription_state:Updated partition assignment: [TopicPartition(topic='ingress', partition=0)]\n",
      "INFO:kafka.coordinator.consumer:Setting newly assigned partitions {TopicPartition(topic='ingress', partition=0)} for group my-group2\n",
      "INFO:kafka.conn:<BrokerConnection node_id=1001 host=35.231.245.139:9092 <connecting> [IPv4 ('35.231.245.139', 9092)]>: Connection complete.\n"
     ]
    }
   ],
   "source": [
    "import sys\n",
    "import os\n",
    "import json\n",
    "import unittest\n",
    "\n",
    "sys.path.insert(0, \"../src\")\n",
    "sys.path.insert(0, \"../src/services/\")\n",
    "from alternal_processes.message_enrichment_consumer import *"
   ]
  },
  {
   "cell_type": "code",
   "execution_count": 1,
   "id": "b58c63c7",
   "metadata": {},
   "outputs": [
    {
     "ename": "IndentationError",
     "evalue": "unexpected indent (Temp/ipykernel_12572/1714265309.py, line 2)",
     "output_type": "error",
     "traceback": [
      "\u001b[1;36m  File \u001b[1;32m\"C:\\Users\\ALBERT~1\\AppData\\Local\\Temp/ipykernel_12572/1714265309.py\"\u001b[1;36m, line \u001b[1;32m2\u001b[0m\n\u001b[1;33m    test_file = json.dumps(json.load(open(path)))\u001b[0m\n\u001b[1;37m    ^\u001b[0m\n\u001b[1;31mIndentationError\u001b[0m\u001b[1;31m:\u001b[0m unexpected indent\n"
     ]
    }
   ],
   "source": [
    "path = \"test_files/ejemplo_situaciones_ingest_server.json\"\n",
    "test_file = json.dumps(json.load(open(path)))\n",
    "country_code_, layer_, position_, direction_, alert_c_point_ = extract_elements(\n",
    "test_file\n",
    ")"
   ]
  },
  {
   "cell_type": "code",
   "execution_count": null,
   "id": "77966bdd",
   "metadata": {},
   "outputs": [],
   "source": []
  }
 ],
 "metadata": {
  "kernelspec": {
   "display_name": "Python 3 (ipykernel)",
   "language": "python",
   "name": "python3"
  },
  "language_info": {
   "codemirror_mode": {
    "name": "ipython",
    "version": 3
   },
   "file_extension": ".py",
   "mimetype": "text/x-python",
   "name": "python",
   "nbconvert_exporter": "python",
   "pygments_lexer": "ipython3",
   "version": "3.9.7"
  }
 },
 "nbformat": 4,
 "nbformat_minor": 5
}
