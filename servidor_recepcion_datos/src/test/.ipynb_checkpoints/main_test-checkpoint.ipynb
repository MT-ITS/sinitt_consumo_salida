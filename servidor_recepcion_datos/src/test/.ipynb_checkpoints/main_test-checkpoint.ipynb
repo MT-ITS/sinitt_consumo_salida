{
 "cells": [
  {
   "cell_type": "code",
   "execution_count": 4,
   "id": "477ccb53",
   "metadata": {},
   "outputs": [],
   "source": [
    "import os\n",
    "import json\n",
    "import unittest\n",
    "import sys\n",
    "\n",
    "sys.path.insert(0, \"../src\")\n",
    "from main import *"
   ]
  },
  {
   "cell_type": "code",
   "execution_count": 9,
   "id": "9f8057fb",
   "metadata": {},
   "outputs": [
    {
     "name": "stdout",
     "output_type": "stream",
     "text": [
      " Ingest-Server - 2022-05-26 17:20:46,321 - root - INFO - C:\\Users\\Alberto Mendoza\\ingest-server-dev\\ingest-server\\test\\validator\\Datex_schemas\n",
      " Ingest-Server - 2022-05-26 17:20:46,325 - root - INFO - 'exchangeInformation' is a required property\n",
      "\n",
      "Failed validating 'required' in schema:\n",
      "    {'description': 'a Container class to manage further information '\n",
      "                    'classes as Payload, Information Management, CIS '\n",
      "                    'Information and Exchange Information ',\n",
      "     'properties': {'_messageContainerExtension': {'$ref': 'DATEXII_3_Common.json#/definitions/_ExtensionType',\n",
      "                                                   'title': '_messageContainerExtension'},\n",
      "                    'cisInformation': {'$ref': 'DATEXII_3_CISInformation.json#/definitions/CISInformation',\n",
      "                                       'title': 'cisInformation'},\n",
      "                    'exchangeInformation': {'$ref': 'DATEXII_3_ExchangeInformation.json',\n",
      "                                            'title': 'exchangeInformation'},\n",
      "                    'informationManagement': {'$ref': 'DATEXII_3_InformationManagement.json#/definitions/InformationManagement',\n",
      "                                              'title': 'informationManagement'},\n",
      "                    'payload': {'items': {'$ref': 'DATEXII_3_Common.json#/definitions/_PayloadPublication'},\n",
      "                                'minItems': 0,\n",
      "                                'title': 'payload',\n",
      "                                'type': 'array'}},\n",
      "     'required': ['exchangeInformation'],\n",
      "     'title': 'MessageContainer',\n",
      "     'type': 'object'}\n",
      "\n",
      "On instance:\n",
      "    {'_modelBaseVersion': '3',\n",
      "     'situationSituationPublication': {'feedType': 'SITUATIONS',\n",
      "                                       'lang': 'es',\n",
      "                                       'publicationCreator': {'country': 'co',\n",
      "                                                              'nationalIdentifier': 'Invi'},\n",
      "                                       'publicationTime': '2022-02-02T15:00:00+02:00',\n",
      "                                       'situation': [{'_id': '0',\n",
      "                                                      'headerInformation': {'informationStatus': {'value': 'real'}},\n",
      "                                                      'situationRecord': [{'situationGeneralObstruction': {'_id': '0',\n",
      "                                                                                                           '_version': '1',\n",
      "                                                                                                           'locationReference': {'locationReferencingPointLocation': {'alertCPoint': [{'locationReferencingAlertCMethod4Point': {'alertCDirection': {'alertCAffectedDirection': {'value': 'both'},\n",
      "                                                                                                                                                                                                                                                     'alertCDirectionCoded': {'value': 'positive'}},\n",
      "                                                                                                                                                                                                                                 'alertCLocationCountryCode': 'co',\n",
      "                                                                                                                                                                                                                                 'alertCLocationTableNumber': 'table_id',\n",
      "                                                                                                                                                                                                                                 'alertCLocationTableVersion': '1',\n",
      "                                                                                                                                                                                                                                 'alertCMethod4PrimaryPointLocation': {'alertCLocation': {'specificLocation': 265},\n",
      "                                                                                                                                                                                                                                                                       'offsetDistance': {'offsetDistance': 2}}}}],\n",
      "                                                                                                                                                                      'pointByCoordinates': {'pointCoordinates': {'latitude': 4.706799030303955,\n",
      "                                                                                                                                                                                                                  'longitude': -74.05436706542969}}}},\n",
      "                                                                                                           'obstructionType': [{'value': 'incident'}],\n",
      "                                                                                                           'probabilityOfOccurrence': {'value': 'certain'},\n",
      "                                                                                                           'situationRecordCreationTime': '2022-02-02T06:31:35+05:00',\n",
      "                                                                                                           'situationRecordVersionTime': '2022-02-02T06:31:35+05:00',\n",
      "                                                                                                           'validity': {'validityStatus': {'value': 'active'},\n",
      "                                                                                                                        'validityTimeSpecification': {'overallStartTime': '2022-02-02T14:31:35+05:00'}}}}]},\n",
      "                                                     {'_id': '19999',\n",
      "                                                      'headerInformation': {'informationStatus': {'value': 'real'}},\n",
      "                                                      'situationRecord': [{'situationInfrastructureDamageObstruction': {'_id': '19999',\n",
      "                                                                                                                        '_version': '1',\n",
      "                                                                                                                        'infrastructureDamageType': {'value': 'damagedBridge'},\n",
      "                                                                                                                        'locationReference': {'locationReferencingPointLocation': {'alertCPoint': [{'locationReferencingAlertCMethod4Point': {'alertCDirection': {'alertCAffectedDirection': {'value': 'both'},\n",
      "                                                                                                                                                                                                                                                                  'alertCDirectionCoded': {'value': 'negative'}},\n",
      "                                                                                                                                                                                                                                              'alertCLocationCountryCode': 'co',\n",
      "                                                                                                                                                                                                                                              'alertCLocationTableNumber': 'table_id',\n",
      "                                                                                                                                                                                                                                              'alertCLocationTableVersion': '1',\n",
      "                                                                                                                                                                                                                                              'alertCMethod4PrimaryPointLocation': {'alertCLocation': {'specificLocation': 1212},\n",
      "                                                                                                                                                                                                                                                                                    'offsetDistance': {'offsetDistance': 1}}}}],\n",
      "                                                                                                                                                                                   'pointByCoordinates': {'pointCoordinates': {'latitude': 4.71534299850464,\n",
      "                                                                                                                                                                                                                               'longitude': -74.0288314819336}}}},\n",
      "                                                                                                                        'probabilityOfOccurrence': {'value': 'certain'},\n",
      "                                                                                                                        'situationRecordCreationTime': '2022-02-16T21:12:22',\n",
      "                                                                                                                        'situationRecordVersionTime': '2022-02-16T21:12:22',\n",
      "                                                                                                                        'validity': {'validityStatus': {'value': 'active'},\n",
      "                                                                                                                                     'validityTimeSpecification': {'overallStartTime': '2022-01-14T03:12:22'}}}}]},\n",
      "                                                     {'_id': '19998',\n",
      "                                                      'headerInformation': {'informationStatus': {'value': 'real'}},\n",
      "                                                      'situationRecord': [{'situationVehicleObstruction': {'_id': '19998',\n",
      "                                                                                                           '_version': '1',\n",
      "                                                                                                           'locationReference': {'locationReferencingPointLocation': {'alertCPoint': [{'locationReferencingAlertCMethod4Point': {'alertCDirection': {'alertCAffectedDirection': {'value': 'both'},\n",
      "                                                                                                                                                                                                                                                     'alertCDirectionCoded': {'value': 'positive'}},\n",
      "                                                                                                                                                                                                                                 'alertCLocationCountryCode': 'co',\n",
      "                                                                                                                                                                                                                                 'alertCLocationTableNumber': 'table_id',\n",
      "                                                                                                                                                                                                                                 'alertCLocationTableVersion': '1',\n",
      "                                                                                                                                                                                                                                 'alertCMethod4PrimaryPointLocation': {'alertCLocation': {'specificLocation': 1427},\n",
      "                                                                                                                                                                                                                                                                       'offsetDistance': {'offsetDistance': 9}}}}],\n",
      "                                                                                                                                                                      'pointByCoordinates': {'pointCoordinates': {'latitude': 4.6143045425415,\n",
      "                                                                                                                                                                                                                  'longitude': -74.1275863647461}}}},\n",
      "                                                                                                           'probabilityOfOccurrence': {'value': 'certain'},\n",
      "                                                                                                           'situationRecordCreationTime': '2022-01-21T12:12:22',\n",
      "                                                                                                           'situationRecordVersionTime': '2022-01-23T13:12:22',\n",
      "                                                                                                           'validity': {'validityStatus': {'value': 'active'},\n",
      "                                                                                                                        'validityTimeSpecification': {'overallStartTime': '2022-01-25T03:12:22'}},\n",
      "                                                                                                           'vehicleObstructionType': {'value': 'medicalEmergency'}}}]}]}}\n"
     ]
    },
    {
     "name": "stdout",
     "output_type": "stream",
     "text": [
      "xxxxxxxxxxxxxxxxxxxxxxxxxxxxxxxxxxxxxx\n",
      "b'{\"_modelBaseVersion\": \"3\", \"situationSituationPublication\": {\"lang\": \"es\", \"publicationTime\": \"2022-02-02T15:00:00+02:00\", \"feedType\": \"SITUATIONS\", \"publicationCreator\": {\"country\": \"co\", \"nationalIdentifier\": \"Invi\"}, \"situation\": [{\"_id\": \"0\", \"headerInformation\": {\"informationStatus\": {\"value\": \"real\"}}, \"situationRecord\": [{\"situationGeneralObstruction\": {\"_id\": \"0\", \"_version\": \"1\", \"situationRecordCreationTime\": \"2022-02-02T06:31:35+05:00\", \"situationRecordVersionTime\": \"2022-02-02T06:31:35+05:00\", \"probabilityOfOccurrence\": {\"value\": \"certain\"}, \"validity\": {\"validityStatus\": {\"value\": \"active\"}, \"validityTimeSpecification\": {\"overallStartTime\": \"2022-02-02T14:31:35+05:00\"}}, \"locationReference\": {\"locationReferencingPointLocation\": {\"pointByCoordinates\": {\"pointCoordinates\": {\"latitude\": 4.706799030303955, \"longitude\": -74.05436706542969}}, \"alertCPoint\": [{\"locationReferencingAlertCMethod4Point\": {\"alertCLocationCountryCode\": \"co\", \"alertCLocationTableNumber\": \"table_id\", \"alertCLocationTableVersion\": \"1\", \"alertCDirection\": {\"alertCDirectionCoded\": {\"value\": \"positive\"}, \"alertCAffectedDirection\": {\"value\": \"both\"}}, \"alertCMethod4PrimaryPointLocation\": {\"alertCLocation\": {\"specificLocation\": 265}, \"offsetDistance\": {\"offsetDistance\": 2}}}}]}}, \"obstructionType\": [{\"value\": \"incident\"}]}}]}, {\"_id\": \"19999\", \"headerInformation\": {\"informationStatus\": {\"value\": \"real\"}}, \"situationRecord\": [{\"situationInfrastructureDamageObstruction\": {\"_id\": \"19999\", \"_version\": \"1\", \"situationRecordCreationTime\": \"2022-02-16T21:12:22\", \"situationRecordVersionTime\": \"2022-02-16T21:12:22\", \"probabilityOfOccurrence\": {\"value\": \"certain\"}, \"infrastructureDamageType\": {\"value\": \"damagedBridge\"}, \"validity\": {\"validityStatus\": {\"value\": \"active\"}, \"validityTimeSpecification\": {\"overallStartTime\": \"2022-01-14T03:12:22\"}}, \"locationReference\": {\"locationReferencingPointLocation\": {\"pointByCoordinates\": {\"pointCoordinates\": {\"latitude\": 4.71534299850464, \"longitude\": -74.0288314819336}}, \"alertCPoint\": [{\"locationReferencingAlertCMethod4Point\": {\"alertCLocationCountryCode\": \"co\", \"alertCLocationTableNumber\": \"table_id\", \"alertCLocationTableVersion\": \"1\", \"alertCDirection\": {\"alertCDirectionCoded\": {\"value\": \"negative\"}, \"alertCAffectedDirection\": {\"value\": \"both\"}}, \"alertCMethod4PrimaryPointLocation\": {\"alertCLocation\": {\"specificLocation\": 1212}, \"offsetDistance\": {\"offsetDistance\": 1}}}}]}}}}]}, {\"_id\": \"19998\", \"headerInformation\": {\"informationStatus\": {\"value\": \"real\"}}, \"situationRecord\": [{\"situationVehicleObstruction\": {\"_id\": \"19998\", \"_version\": \"1\", \"situationRecordCreationTime\": \"2022-01-21T12:12:22\", \"situationRecordVersionTime\": \"2022-01-23T13:12:22\", \"probabilityOfOccurrence\": {\"value\": \"certain\"}, \"vehicleObstructionType\": {\"value\": \"medicalEmergency\"}, \"validity\": {\"validityStatus\": {\"value\": \"active\"}, \"validityTimeSpecification\": {\"overallStartTime\": \"2022-01-25T03:12:22\"}}, \"locationReference\": {\"locationReferencingPointLocation\": {\"pointByCoordinates\": {\"pointCoordinates\": {\"latitude\": 4.6143045425415, \"longitude\": -74.1275863647461}}, \"alertCPoint\": [{\"locationReferencingAlertCMethod4Point\": {\"alertCLocationCountryCode\": \"co\", \"alertCLocationTableNumber\": \"table_id\", \"alertCLocationTableVersion\": \"1\", \"alertCDirection\": {\"alertCDirectionCoded\": {\"value\": \"positive\"}, \"alertCAffectedDirection\": {\"value\": \"both\"}}, \"alertCMethod4PrimaryPointLocation\": {\"alertCLocation\": {\"specificLocation\": 1427}, \"offsetDistance\": {\"offsetDistance\": 9}}}}]}}}}]}]}}'\n",
      "xxxxxxxxxxxxxxxxxxxxxxxxxxxxxxxxxxxxxx\n"
     ]
    }
   ],
   "source": [
    "d_payload = \"situationPublication\"\n",
    "        result=put_data(d_payload)"
   ]
  },
  {
   "cell_type": "code",
   "execution_count": null,
   "id": "2c84ebc0",
   "metadata": {},
   "outputs": [],
   "source": []
  }
 ],
 "metadata": {
  "kernelspec": {
   "display_name": "Python 3 (ipykernel)",
   "language": "python",
   "name": "python3"
  },
  "language_info": {
   "codemirror_mode": {
    "name": "ipython",
    "version": 3
   },
   "file_extension": ".py",
   "mimetype": "text/x-python",
   "name": "python",
   "nbconvert_exporter": "python",
   "pygments_lexer": "ipython3",
   "version": "3.9.7"
  }
 },
 "nbformat": 4,
 "nbformat_minor": 5
}
