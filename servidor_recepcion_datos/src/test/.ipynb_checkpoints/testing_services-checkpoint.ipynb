{
 "cells": [
  {
   "cell_type": "markdown",
   "id": "a065f5c1",
   "metadata": {},
   "source": [
    "## Singleton.py"
   ]
  },
  {
   "cell_type": "code",
   "execution_count": 1,
   "id": "c329de30",
   "metadata": {},
   "outputs": [],
   "source": [
    "import sys\n",
    "import os\n",
    "import json\n",
    "import unittest\n",
    "\n",
    "sys.path.insert(0, \"../src\")\n",
    "from services.singleton import Singleton"
   ]
  },
  {
   "cell_type": "code",
   "execution_count": 2,
   "id": "f9ab2e73",
   "metadata": {},
   "outputs": [
    {
     "name": "stdout",
     "output_type": "stream",
     "text": [
      "1 entro\n"
     ]
    },
    {
     "data": {
      "text/plain": [
       "True"
      ]
     },
     "execution_count": 2,
     "metadata": {},
     "output_type": "execute_result"
    }
   ],
   "source": [
    "singleton_instance = Singleton(\"1\", (), {})\n",
    "result = Singleton.__call__(singleton_instance)\n",
    "list(Singleton._instances.keys()) ==  [singleton_instance]"
   ]
  },
  {
   "cell_type": "code",
   "execution_count": 4,
   "id": "e1525206",
   "metadata": {},
   "outputs": [
    {
     "ename": "TypeError",
     "evalue": "descriptor '__init__' of 'object' object needs an argument",
     "output_type": "error",
     "traceback": [
      "\u001b[1;31m---------------------------------------------------------------------------\u001b[0m",
      "\u001b[1;31mTypeError\u001b[0m                                 Traceback (most recent call last)",
      "\u001b[1;32mC:\\Users\\ALBERT~1\\AppData\\Local\\Temp/ipykernel_7552/4218990582.py\u001b[0m in \u001b[0;36m<module>\u001b[1;34m\u001b[0m\n\u001b[0;32m      1\u001b[0m \u001b[0msingleton_instance\u001b[0m \u001b[1;33m=\u001b[0m \u001b[0mSingleton\u001b[0m\u001b[1;33m(\u001b[0m\u001b[1;34m\"1\"\u001b[0m\u001b[1;33m,\u001b[0m \u001b[1;33m(\u001b[0m\u001b[1;33m)\u001b[0m\u001b[1;33m,\u001b[0m \u001b[1;33m{\u001b[0m\u001b[1;33m}\u001b[0m\u001b[1;33m)\u001b[0m\u001b[1;33m\u001b[0m\u001b[1;33m\u001b[0m\u001b[0m\n\u001b[0;32m      2\u001b[0m \u001b[0mSingleton\u001b[0m\u001b[1;33m.\u001b[0m\u001b[0m_instances\u001b[0m\u001b[1;33m[\u001b[0m\u001b[0msingleton_instance\u001b[0m\u001b[1;33m]\u001b[0m \u001b[1;33m=\u001b[0m \u001b[0msingleton_instance\u001b[0m\u001b[1;33m\u001b[0m\u001b[1;33m\u001b[0m\u001b[0m\n\u001b[1;32m----> 3\u001b[1;33m \u001b[0mresult\u001b[0m \u001b[1;33m=\u001b[0m \u001b[0mSingleton\u001b[0m\u001b[1;33m.\u001b[0m\u001b[0m__call__\u001b[0m\u001b[1;33m(\u001b[0m\u001b[0msingleton_instance\u001b[0m\u001b[1;33m)\u001b[0m\u001b[1;33m\u001b[0m\u001b[1;33m\u001b[0m\u001b[0m\n\u001b[0m\u001b[0;32m      4\u001b[0m \u001b[0mprint\u001b[0m\u001b[1;33m(\u001b[0m\u001b[1;34m\"2\"\u001b[0m\u001b[1;33m)\u001b[0m\u001b[1;33m\u001b[0m\u001b[1;33m\u001b[0m\u001b[0m\n",
      "\u001b[1;32m~\\ingest-server-dev\\ingest-server\\test\\../src\\services\\singleton.py\u001b[0m in \u001b[0;36m__call__\u001b[1;34m(cls, *args, **kwargs)\u001b[0m\n\u001b[0;32m      7\u001b[0m         \u001b[1;32melse\u001b[0m\u001b[1;33m:\u001b[0m\u001b[1;33m\u001b[0m\u001b[1;33m\u001b[0m\u001b[0m\n\u001b[0;32m      8\u001b[0m             \u001b[1;31m# because I wanted to initialise my class\u001b[0m\u001b[1;33m\u001b[0m\u001b[1;33m\u001b[0m\u001b[0m\n\u001b[1;32m----> 9\u001b[1;33m             \u001b[0mcls\u001b[0m\u001b[1;33m.\u001b[0m\u001b[0m_instances\u001b[0m\u001b[1;33m[\u001b[0m\u001b[0mcls\u001b[0m\u001b[1;33m]\u001b[0m\u001b[1;33m.\u001b[0m\u001b[0m__init__\u001b[0m\u001b[1;33m(\u001b[0m\u001b[1;33m*\u001b[0m\u001b[0margs\u001b[0m\u001b[1;33m,\u001b[0m \u001b[1;33m**\u001b[0m\u001b[0mkwargs\u001b[0m\u001b[1;33m)\u001b[0m\u001b[1;33m\u001b[0m\u001b[1;33m\u001b[0m\u001b[0m\n\u001b[0m\u001b[0;32m     10\u001b[0m             \u001b[0mprint\u001b[0m\u001b[1;33m(\u001b[0m\u001b[1;34m\"2 entro\"\u001b[0m\u001b[1;33m)\u001b[0m\u001b[1;33m\u001b[0m\u001b[1;33m\u001b[0m\u001b[0m\n\u001b[0;32m     11\u001b[0m         \u001b[1;32mreturn\u001b[0m \u001b[0mcls\u001b[0m\u001b[1;33m.\u001b[0m\u001b[0m_instances\u001b[0m\u001b[1;33m[\u001b[0m\u001b[0mcls\u001b[0m\u001b[1;33m]\u001b[0m\u001b[1;33m\u001b[0m\u001b[1;33m\u001b[0m\u001b[0m\n",
      "\u001b[1;31mTypeError\u001b[0m: descriptor '__init__' of 'object' object needs an argument"
     ]
    }
   ],
   "source": [
    "singleton_instance = Singleton(\"1\", (), {})\n",
    "Singleton._instances[singleton_instance] = singleton_instance\n",
    "result = Singleton.__call__(singleton_instance)\n",
    "print(\"2\")"
   ]
  },
  {
   "cell_type": "markdown",
   "id": "74e76bc2",
   "metadata": {},
   "source": [
    "## Postgress_connect.py"
   ]
  },
  {
   "cell_type": "code",
   "execution_count": null,
   "id": "340556c0",
   "metadata": {},
   "outputs": [],
   "source": []
  },
  {
   "cell_type": "code",
   "execution_count": null,
   "id": "4a8c5efa",
   "metadata": {},
   "outputs": [],
   "source": []
  },
  {
   "cell_type": "code",
   "execution_count": null,
   "id": "280d3247",
   "metadata": {},
   "outputs": [],
   "source": []
  },
  {
   "cell_type": "code",
   "execution_count": null,
   "id": "3a6653c1",
   "metadata": {},
   "outputs": [],
   "source": []
  },
  {
   "cell_type": "code",
   "execution_count": null,
   "id": "a999c373",
   "metadata": {},
   "outputs": [],
   "source": []
  },
  {
   "cell_type": "code",
   "execution_count": null,
   "id": "69dbe9cb",
   "metadata": {},
   "outputs": [],
   "source": []
  },
  {
   "cell_type": "code",
   "execution_count": null,
   "id": "086e266d",
   "metadata": {},
   "outputs": [],
   "source": []
  },
  {
   "cell_type": "code",
   "execution_count": null,
   "id": "b5329663",
   "metadata": {},
   "outputs": [],
   "source": []
  },
  {
   "cell_type": "code",
   "execution_count": null,
   "id": "b685f7c4",
   "metadata": {},
   "outputs": [],
   "source": []
  },
  {
   "cell_type": "code",
   "execution_count": 6,
   "id": "cc9a7467",
   "metadata": {},
   "outputs": [],
   "source": [
    "import sys\n",
    "import json\n",
    "import unittest\n",
    "\n",
    "sys.path.insert(0, \"../src\")\n",
    "\n",
    "from session_manager.session_manager import *\n",
    "from datetime import datetime"
   ]
  },
  {
   "cell_type": "code",
   "execution_count": 10,
   "id": "d7877e89",
   "metadata": {},
   "outputs": [
    {
     "data": {
      "text/plain": [
       "True"
      ]
     },
     "execution_count": 10,
     "metadata": {},
     "output_type": "execute_result"
    }
   ],
   "source": [
    "exchange_info = json.load(\n",
    "            open(\n",
    "                \"SampleMessageExchange/Sample_Client_responses/openSession_OKresponse.json\"\n",
    "            )\n",
    "        )[\"exchangeInformation\"]\n",
    "succes_reason = \"test\"\n",
    "result = json.loads(succes_process_status(exchange_info, succes_reason))\n",
    "session_id = exchange_info[\"DynamicInformation\"][\"sessionInformation\"][\n",
    "\"sessionID\"\n",
    "]\n",
    "dyn_object = DynamicInformation(\"online\", session_id, \"ack\")\n",
    "dynamic_information = json.loads(dyn_object.toJson())\n",
    "dynamic_information[\"returnInformation\"][\"returnStatusReason\"] = status_reason(\n",
    "succes_reason, \"es\"\n",
    ")\n",
    "print(\"exchangeInformation\" in result)\n",
    "print(result[\"exchangeInformation\"][\"ExchangeContext\"] == exchange_info[\"ExchangeContext\"])\n",
    "result[\"exchangeInformation\"][\"DynamicInformation\"] == dynamic_information"
   ]
  },
  {
   "cell_type": "code",
   "execution_count": 13,
   "id": "00ec6f6f",
   "metadata": {},
   "outputs": [
    {
     "data": {
      "text/plain": [
       "{'exchangeStatus': 'online',\n",
       " 'messageGenerationTimestamp': '2022-05-27T12:13:56.873817',\n",
       " 'returnInformation': {'returnStatus': 'ack',\n",
       "  'returnStatusReason': [{'lang': 'es', 'value': 'test'}]},\n",
       " 'sessionInformation': {'sessionID': 'MY-SESSION-TOKEN-1124637308553753712',\n",
       "  'startSession': '2022-05-27T12:13:56.873817'}}"
      ]
     },
     "execution_count": 13,
     "metadata": {},
     "output_type": "execute_result"
    }
   ],
   "source": [
    "result[\"exchangeInformation\"][\"DynamicInformation\"]"
   ]
  },
  {
   "cell_type": "code",
   "execution_count": 14,
   "id": "1fa1d331",
   "metadata": {},
   "outputs": [
    {
     "data": {
      "text/plain": [
       "{'exchangeStatus': 'online',\n",
       " 'messageGenerationTimestamp': '2022-05-27T12:13:56.873817',\n",
       " 'returnInformation': {'returnStatus': 'ack',\n",
       "  'returnStatusReason': [{'lang': 'es', 'value': 'test'}]},\n",
       " 'sessionInformation': {'sessionID': 'MY-SESSION-TOKEN-1124637308553753712',\n",
       "  'startSession': '2022-05-27T12:13:56.873817'}}"
      ]
     },
     "execution_count": 14,
     "metadata": {},
     "output_type": "execute_result"
    }
   ],
   "source": [
    "dynamic_information"
   ]
  },
  {
   "cell_type": "code",
   "execution_count": 15,
   "id": "ff7e3b3e",
   "metadata": {},
   "outputs": [
    {
     "data": {
      "text/plain": [
       "True"
      ]
     },
     "execution_count": 15,
     "metadata": {},
     "output_type": "execute_result"
    }
   ],
   "source": [
    "exchange_info = json.load(\n",
    "open(\"SampleMessageExchange/Sample_Requests_Body/putData_ex.json\")\n",
    ")\n",
    "result = not_active_session(exchange_info)\n",
    "dyn_object = DynamicInformation(DynamicInformation.ES_OFFLINE, None, \"fail\")\n",
    "exchange_info[\"DynamicInformation\"] = json.loads(dyn_object.toJson())\n",
    "exchange_info[\"DynamicInformation\"].pop(\"sessionInformation\", None)\n",
    "exchange_info[\"DynamicInformation\"][\"returnInformation\"][\n",
    "\"returnStatusReason\"\n",
    "] = status_reason(\"No existe una sesión activa\", \"es\")\n",
    "resp = {\"exchangeInformation\": exchange_info}\n",
    "test = json.loads(result)\n",
    "resp == test"
   ]
  },
  {
   "cell_type": "code",
   "execution_count": 21,
   "id": "f83029ec",
   "metadata": {},
   "outputs": [
    {
     "data": {
      "text/plain": [
       "{'validity': {'validityStatus': {'value': 'active'},\n",
       "  'validityTimeSpecification': {'overallStartTime': '2021-12-09T17:03:30.387+01:00'}},\n",
       " 'name': 'subscription_name',\n",
       " 'referenceID': {'_id': 'referenceId', 'version': '1'},\n",
       " 'subscriptionStart': '2021-12-09T17:03:30.387+01:00',\n",
       " 'subscriptionEnd': '2021-12-09T17:03:30.387+01:00',\n",
       " 'deliveyFrequency': 5}"
      ]
     },
     "execution_count": 21,
     "metadata": {},
     "output_type": "execute_result"
    }
   ],
   "source": [
    "resp[\"exchangeInformation\"][\"exchangeInformation\"][\"ExchangeContext\"][\"Subscription\"]"
   ]
  },
  {
   "cell_type": "code",
   "execution_count": 22,
   "id": "f199843b",
   "metadata": {},
   "outputs": [
    {
     "data": {
      "text/plain": [
       "{'validity': {'validityStatus': {'value': 'active'},\n",
       "  'validityTimeSpecification': {'overallStartTime': '2021-12-09T17:03:30.387+01:00'}},\n",
       " 'name': 'subscription_name',\n",
       " 'referenceID': {'_id': 'referenceId', 'version': '1'},\n",
       " 'subscriptionStart': '2021-12-09T17:03:30.387+01:00',\n",
       " 'subscriptionEnd': '2021-12-09T17:03:30.387+01:00',\n",
       " 'deliveyFrequency': 5}"
      ]
     },
     "execution_count": 22,
     "metadata": {},
     "output_type": "execute_result"
    }
   ],
   "source": [
    "test[\"exchangeInformation\"][\"exchangeInformation\"][\"ExchangeContext\"][\"Subscription\"]"
   ]
  },
  {
   "cell_type": "code",
   "execution_count": 30,
   "id": "a440114b",
   "metadata": {},
   "outputs": [
    {
     "data": {
      "text/plain": [
       "True"
      ]
     },
     "execution_count": 30,
     "metadata": {},
     "output_type": "execute_result"
    }
   ],
   "source": [
    "exchange_info = json.load(\n",
    "open(\n",
    "\"SampleMessageExchange/Sample_Client_responses/openSession_OKresponse.json\"\n",
    ")\n",
    ")\n",
    "works, result = keep_alive(exchange_info)\n",
    "result = json.loads(result)\n",
    "test1 = False\n",
    "test2 = json.loads(not_active_session(exchange_info[\"exchangeInformation\"]))\n",
    "\n",
    "works == test1\n",
    "result == test2"
   ]
  },
  {
   "cell_type": "code",
   "execution_count": 38,
   "id": "7df55097",
   "metadata": {},
   "outputs": [
    {
     "data": {
      "text/plain": [
       "{'validity': {'validityStatus': {'value': 'active'},\n",
       "  'validityTimeSpecification': {'overallStartTime': '2021-12-09T17:03:30.387+01:00'}},\n",
       " 'name': 'subscription_name',\n",
       " 'referenceID': {'_id': 'referenceId', 'version': '1'},\n",
       " 'subscriptionStart': '2021-12-09T17:03:30.387+01:00',\n",
       " 'subscriptionEnd': '2021-12-09T17:03:30.387+01:00',\n",
       " 'deliveyFrequency': 5}"
      ]
     },
     "execution_count": 38,
     "metadata": {},
     "output_type": "execute_result"
    }
   ],
   "source": [
    "result[\"exchangeInformation\"][\"ExchangeContext\"][\"Subscription\"]"
   ]
  },
  {
   "cell_type": "code",
   "execution_count": 39,
   "id": "ce1aa42a",
   "metadata": {},
   "outputs": [
    {
     "data": {
      "text/plain": [
       "{'validity': {'validityStatus': {'value': 'active'},\n",
       "  'validityTimeSpecification': {'overallStartTime': '2021-12-09T17:03:30.387+01:00'}},\n",
       " 'name': 'subscription_name',\n",
       " 'referenceID': {'_id': 'referenceId', 'version': '1'},\n",
       " 'subscriptionStart': '2021-12-09T17:03:30.387+01:00',\n",
       " 'subscriptionEnd': '2021-12-09T17:03:30.387+01:00',\n",
       " 'deliveyFrequency': 5}"
      ]
     },
     "execution_count": 39,
     "metadata": {},
     "output_type": "execute_result"
    }
   ],
   "source": [
    "test2[\"exchangeInformation\"][\"ExchangeContext\"][\"Subscription\"]"
   ]
  },
  {
   "cell_type": "code",
   "execution_count": 40,
   "id": "312d094e",
   "metadata": {},
   "outputs": [
    {
     "ename": "NameError",
     "evalue": "name 'exInfo' is not defined",
     "output_type": "error",
     "traceback": [
      "\u001b[1;31m---------------------------------------------------------------------------\u001b[0m",
      "\u001b[1;31mRuntimeError\u001b[0m                              Traceback (most recent call last)",
      "\u001b[1;32m~\\ingest-server-dev\\ingest-server\\test\\../src\\session_manager\\session_manager.py\u001b[0m in \u001b[0;36mopen_session\u001b[1;34m(json_payload)\u001b[0m\n\u001b[0;32m     28\u001b[0m         \u001b[1;32melif\u001b[0m \u001b[1;34m'internationalIdentifier'\u001b[0m \u001b[1;32min\u001b[0m \u001b[0mex_context\u001b[0m\u001b[1;33m[\u001b[0m\u001b[1;34m'supplierOrCisRequester'\u001b[0m\u001b[1;33m]\u001b[0m\u001b[1;33m:\u001b[0m\u001b[1;33m\u001b[0m\u001b[1;33m\u001b[0m\u001b[0m\n\u001b[1;32m---> 29\u001b[1;33m             session['agency_name'] = ex_context['supplierOrCisRequester']['internationalIdentifier'][\n\u001b[0m\u001b[0;32m     30\u001b[0m                 'nationalIdentifier']\n",
      "\u001b[1;32m~\\anaconda3\\lib\\site-packages\\werkzeug\\local.py\u001b[0m in \u001b[0;36m__get__\u001b[1;34m(self, instance, owner)\u001b[0m\n\u001b[0;32m    431\u001b[0m         \u001b[1;32mtry\u001b[0m\u001b[1;33m:\u001b[0m\u001b[1;33m\u001b[0m\u001b[1;33m\u001b[0m\u001b[0m\n\u001b[1;32m--> 432\u001b[1;33m             \u001b[0mobj\u001b[0m \u001b[1;33m=\u001b[0m \u001b[0minstance\u001b[0m\u001b[1;33m.\u001b[0m\u001b[0m_get_current_object\u001b[0m\u001b[1;33m(\u001b[0m\u001b[1;33m)\u001b[0m\u001b[1;33m\u001b[0m\u001b[1;33m\u001b[0m\u001b[0m\n\u001b[0m\u001b[0;32m    433\u001b[0m         \u001b[1;32mexcept\u001b[0m \u001b[0mRuntimeError\u001b[0m\u001b[1;33m:\u001b[0m\u001b[1;33m\u001b[0m\u001b[1;33m\u001b[0m\u001b[0m\n",
      "\u001b[1;32m~\\anaconda3\\lib\\site-packages\\werkzeug\\local.py\u001b[0m in \u001b[0;36m_get_current_object\u001b[1;34m(self)\u001b[0m\n\u001b[0;32m    553\u001b[0m         \u001b[1;32mif\u001b[0m \u001b[1;32mnot\u001b[0m \u001b[0mhasattr\u001b[0m\u001b[1;33m(\u001b[0m\u001b[0mself\u001b[0m\u001b[1;33m.\u001b[0m\u001b[0m__local\u001b[0m\u001b[1;33m,\u001b[0m \u001b[1;34m\"__release_local__\"\u001b[0m\u001b[1;33m)\u001b[0m\u001b[1;33m:\u001b[0m  \u001b[1;31m# type: ignore\u001b[0m\u001b[1;33m\u001b[0m\u001b[1;33m\u001b[0m\u001b[0m\n\u001b[1;32m--> 554\u001b[1;33m             \u001b[1;32mreturn\u001b[0m \u001b[0mself\u001b[0m\u001b[1;33m.\u001b[0m\u001b[0m__local\u001b[0m\u001b[1;33m(\u001b[0m\u001b[1;33m)\u001b[0m  \u001b[1;31m# type: ignore\u001b[0m\u001b[1;33m\u001b[0m\u001b[1;33m\u001b[0m\u001b[0m\n\u001b[0m\u001b[0;32m    555\u001b[0m \u001b[1;33m\u001b[0m\u001b[0m\n",
      "\u001b[1;32m~\\anaconda3\\lib\\site-packages\\flask\\globals.py\u001b[0m in \u001b[0;36m_lookup_req_object\u001b[1;34m(name)\u001b[0m\n\u001b[0;32m     37\u001b[0m     \u001b[1;32mif\u001b[0m \u001b[0mtop\u001b[0m \u001b[1;32mis\u001b[0m \u001b[1;32mNone\u001b[0m\u001b[1;33m:\u001b[0m\u001b[1;33m\u001b[0m\u001b[1;33m\u001b[0m\u001b[0m\n\u001b[1;32m---> 38\u001b[1;33m         \u001b[1;32mraise\u001b[0m \u001b[0mRuntimeError\u001b[0m\u001b[1;33m(\u001b[0m\u001b[0m_request_ctx_err_msg\u001b[0m\u001b[1;33m)\u001b[0m\u001b[1;33m\u001b[0m\u001b[1;33m\u001b[0m\u001b[0m\n\u001b[0m\u001b[0;32m     39\u001b[0m     \u001b[1;32mreturn\u001b[0m \u001b[0mgetattr\u001b[0m\u001b[1;33m(\u001b[0m\u001b[0mtop\u001b[0m\u001b[1;33m,\u001b[0m \u001b[0mname\u001b[0m\u001b[1;33m)\u001b[0m\u001b[1;33m\u001b[0m\u001b[1;33m\u001b[0m\u001b[0m\n",
      "\u001b[1;31mRuntimeError\u001b[0m: Working outside of request context.\n\nThis typically means that you attempted to use functionality that needed\nan active HTTP request.  Consult the documentation on testing for\ninformation about how to avoid this problem.",
      "\nDuring handling of the above exception, another exception occurred:\n",
      "\u001b[1;31mNameError\u001b[0m                                 Traceback (most recent call last)",
      "\u001b[1;32mC:\\Users\\ALBERT~1\\AppData\\Local\\Temp/ipykernel_7552/568929994.py\u001b[0m in \u001b[0;36m<module>\u001b[1;34m\u001b[0m\n\u001b[0;32m      2\u001b[0m     \u001b[0mopen\u001b[0m\u001b[1;33m(\u001b[0m\u001b[1;34m\"SampleMessageExchange/Sample_Requests_Body/openSession_ex.json\"\u001b[0m\u001b[1;33m)\u001b[0m\u001b[1;33m\u001b[0m\u001b[1;33m\u001b[0m\u001b[0m\n\u001b[0;32m      3\u001b[0m )\n\u001b[1;32m----> 4\u001b[1;33m \u001b[0mresult\u001b[0m \u001b[1;33m=\u001b[0m \u001b[0mopen_session\u001b[0m\u001b[1;33m(\u001b[0m\u001b[0mexchange_info\u001b[0m\u001b[1;33m)\u001b[0m\u001b[1;33m\u001b[0m\u001b[1;33m\u001b[0m\u001b[0m\n\u001b[0m",
      "\u001b[1;32m~\\ingest-server-dev\\ingest-server\\test\\../src\\session_manager\\session_manager.py\u001b[0m in \u001b[0;36mopen_session\u001b[1;34m(json_payload)\u001b[0m\n\u001b[0;32m     55\u001b[0m         \u001b[0mlogging\u001b[0m\u001b[1;33m.\u001b[0m\u001b[0minfo\u001b[0m\u001b[1;33m(\u001b[0m\u001b[0me\u001b[0m\u001b[1;33m)\u001b[0m\u001b[1;33m\u001b[0m\u001b[1;33m\u001b[0m\u001b[0m\n\u001b[0;32m     56\u001b[0m         \u001b[0mlogging\u001b[0m\u001b[1;33m.\u001b[0m\u001b[0minfo\u001b[0m\u001b[1;33m(\u001b[0m\u001b[1;34m'Error de apertura de sesión: la estructura del mensaje Datex no es correcto'\u001b[0m\u001b[1;33m)\u001b[0m\u001b[1;33m\u001b[0m\u001b[1;33m\u001b[0m\u001b[0m\n\u001b[1;32m---> 57\u001b[1;33m         return False, failed_process_status(exInfo, 'La estructura del mensaje Datex no es correcta ',\n\u001b[0m\u001b[0;32m     58\u001b[0m                                             DynamicInformation.ES_OFFLINE)\n\u001b[0;32m     59\u001b[0m \u001b[1;33m\u001b[0m\u001b[0m\n",
      "\u001b[1;31mNameError\u001b[0m: name 'exInfo' is not defined"
     ]
    }
   ],
   "source": [
    "exchange_info = json.load(\n",
    "    open(\"SampleMessageExchange/Sample_Requests_Body/openSession_ex.json\")\n",
    ")\n",
    "result = open_session(exchange_info)"
   ]
  },
  {
   "cell_type": "code",
   "execution_count": null,
   "id": "43ec8be7",
   "metadata": {},
   "outputs": [],
   "source": []
  }
 ],
 "metadata": {
  "kernelspec": {
   "display_name": "Python 3 (ipykernel)",
   "language": "python",
   "name": "python3"
  },
  "language_info": {
   "codemirror_mode": {
    "name": "ipython",
    "version": 3
   },
   "file_extension": ".py",
   "mimetype": "text/x-python",
   "name": "python",
   "nbconvert_exporter": "python",
   "pygments_lexer": "ipython3",
   "version": "3.9.7"
  }
 },
 "nbformat": 4,
 "nbformat_minor": 5
}
